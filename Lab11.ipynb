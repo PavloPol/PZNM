{
  "cells": [
    {
      "cell_type": "markdown",
      "metadata": {},
      "source": [
        "Для початку завантажую всі необхідні бібліотеки"
      ]
    },
    {
      "cell_type": "code",
      "execution_count": 44,
      "metadata": {
        "id": "o0g2n36UO9qE"
      },
      "outputs": [],
      "source": [
        "from tensorflow.keras.models import load_model\n",
        "import gradio as gr\n",
        "import numpy as np\n",
        "from PIL import Image\n",
        "from tensorflow.keras.datasets import mnist\n",
        "from tensorflow.keras.utils import to_categorical\n",
        "from tensorflow.keras.preprocessing import image"
      ]
    },
    {
      "cell_type": "markdown",
      "metadata": {},
      "source": [
        "Далі завантажую дані для тесту моделі"
      ]
    },
    {
      "cell_type": "code",
      "execution_count": 18,
      "metadata": {},
      "outputs": [
        {
          "name": "stdout",
          "output_type": "stream",
          "text": [
            "Downloading data from https://storage.googleapis.com/tensorflow/tf-keras-datasets/mnist.npz\n",
            "11490434/11490434 [==============================] - 4s 0us/step\n"
          ]
        }
      ],
      "source": [
        "(_, _), (X_test, y_test) = mnist.load_data()"
      ]
    },
    {
      "cell_type": "markdown",
      "metadata": {},
      "source": [
        "Приводжу дані до необхідної форми"
      ]
    },
    {
      "cell_type": "code",
      "execution_count": 19,
      "metadata": {},
      "outputs": [],
      "source": [
        "X_test = X_test.reshape((10000, 28, 28, 1)).astype('float32') / 255\n",
        "y_test = to_categorical(y_test)"
      ]
    },
    {
      "cell_type": "markdown",
      "metadata": {},
      "source": [
        "Далі завантажую модель"
      ]
    },
    {
      "cell_type": "code",
      "execution_count": 8,
      "metadata": {
        "id": "Isags23sPRfa"
      },
      "outputs": [],
      "source": [
        "cnn = load_model('mnist_cnn.h5')"
      ]
    },
    {
      "cell_type": "markdown",
      "metadata": {},
      "source": [
        "Тестую модель на завантажених даних"
      ]
    },
    {
      "cell_type": "code",
      "execution_count": 20,
      "metadata": {},
      "outputs": [
        {
          "name": "stdout",
          "output_type": "stream",
          "text": [
            "WARNING:tensorflow:From c:\\Python311\\Lib\\site-packages\\keras\\src\\utils\\tf_utils.py:492: The name tf.ragged.RaggedTensorValue is deprecated. Please use tf.compat.v1.ragged.RaggedTensorValue instead.\n",
            "\n",
            "313/313 [==============================] - 5s 12ms/step - loss: 0.0342 - accuracy: 0.9894\n",
            "Test accuracy: 98.94%\n"
          ]
        }
      ],
      "source": [
        "loss, accuracy = cnn.evaluate(X_test, y_test)\n",
        "\n",
        "print(f'Test accuracy: {accuracy * 100:.2f}%')"
      ]
    },
    {
      "cell_type": "markdown",
      "metadata": {},
      "source": [
        "Ще раз для тесту завантажую зображення цифри і приводжу його до необхідної форми"
      ]
    },
    {
      "cell_type": "code",
      "execution_count": 45,
      "metadata": {},
      "outputs": [],
      "source": [
        "img_path = '7.png'\n",
        "img = Image.open(img_path)\n",
        "img = img.convert('L')\n",
        "img = img.resize((28, 28))\n",
        "img_array = image.img_to_array(img)\n",
        "img_array = img_array.reshape(1, 28, 28, 1).astype('float32') / 255"
      ]
    },
    {
      "cell_type": "markdown",
      "metadata": {},
      "source": [
        "Тестую модель на завантаженому зображенні"
      ]
    },
    {
      "cell_type": "code",
      "execution_count": 46,
      "metadata": {},
      "outputs": [
        {
          "name": "stdout",
          "output_type": "stream",
          "text": [
            "1/1 [==============================] - 0s 28ms/step\n",
            "0: 0.0009095054%\n",
            "1: 0.0016049002%\n",
            "2: 0.1096770633%\n",
            "3: 0.0007550132%\n",
            "4: 0.0033071283%\n",
            "5: 0.0003801694%\n",
            "6: 0.0000564639%\n",
            "7: 99.8699784279%\n",
            "8: 0.0039431350%\n",
            "9: 0.0093937779%\n",
            "The predicted class is: 7\n"
          ]
        }
      ],
      "source": [
        "predictions = cnn.predict(img_array)\n",
        "\n",
        "for index, probability in enumerate(predictions[0]):\n",
        "    print(f'{index}: {probability:.10%}')\n",
        "\n",
        "\n",
        "predicted_class = np.argmax(predictions[0])\n",
        "print(f'The predicted class is: {predicted_class}')"
      ]
    },
    {
      "cell_type": "markdown",
      "metadata": {},
      "source": [
        "Далі за допомогою бібліотеки gradio створюю інтерфейс для роботи з моделлю, в ньому можна завантажити фото і розпізнати його за допомогою моделі"
      ]
    },
    {
      "cell_type": "code",
      "execution_count": 48,
      "metadata": {
        "id": "UfQdXpLsPkDg"
      },
      "outputs": [
        {
          "name": "stdout",
          "output_type": "stream",
          "text": [
            "Running on local URL:  http://127.0.0.1:7871\n",
            "Running on public URL: https://a9bf1a229d9f671f48.gradio.live\n",
            "\n",
            "This share link expires in 72 hours. For free permanent hosting and GPU upgrades, run `gradio deploy` from Terminal to deploy to Spaces (https://huggingface.co/spaces)\n"
          ]
        },
        {
          "data": {
            "text/html": [
              "<div><iframe src=\"https://a9bf1a229d9f671f48.gradio.live\" width=\"100%\" height=\"500\" allow=\"autoplay; camera; microphone; clipboard-read; clipboard-write;\" frameborder=\"0\" allowfullscreen></iframe></div>"
            ],
            "text/plain": [
              "<IPython.core.display.HTML object>"
            ]
          },
          "metadata": {},
          "output_type": "display_data"
        },
        {
          "data": {
            "text/plain": []
          },
          "execution_count": 48,
          "metadata": {},
          "output_type": "execute_result"
        }
      ],
      "source": [
        "def preprocess_image(image):\n",
        "    img_pil = Image.fromarray(image)\n",
        "    img_resized = img_pil.resize((28, 28))\n",
        "    img_array = np.array(img_resized).mean(axis=-1).reshape(1, 28, 28, 1) / 255.0\n",
        "    return img_array\n",
        "\n",
        "def predict_digit(image):\n",
        "    img_array = preprocess_image(image)\n",
        "    prediction = cnn.predict(img_array)\n",
        "    predicted_label = np.argmax(prediction[0])\n",
        "    return f'The predicted number is: {predicted_label}'\n",
        "\n",
        "iface = gr.Interface(\n",
        "    fn=predict_digit,\n",
        "    inputs=\"image\",\n",
        "    outputs=\"label\"\n",
        ")\n",
        "\n",
        "iface.launch(share=True)"
      ]
    }
  ],
  "metadata": {
    "colab": {
      "provenance": []
    },
    "kernelspec": {
      "display_name": "Python 3",
      "name": "python3"
    },
    "language_info": {
      "codemirror_mode": {
        "name": "ipython",
        "version": 3
      },
      "file_extension": ".py",
      "mimetype": "text/x-python",
      "name": "python",
      "nbconvert_exporter": "python",
      "pygments_lexer": "ipython3",
      "version": "3.11.0"
    }
  },
  "nbformat": 4,
  "nbformat_minor": 0
}
